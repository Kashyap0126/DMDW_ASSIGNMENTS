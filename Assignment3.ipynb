{
  "nbformat": 4,
  "nbformat_minor": 0,
  "metadata": {
    "colab": {
      "name": "Assignment3.ipynb",
      "provenance": [],
      "collapsed_sections": [],
      "authorship_tag": "ABX9TyPHj7JjdJwS+/VbvRYGqd6O",
      "include_colab_link": true
    },
    "kernelspec": {
      "name": "python3",
      "display_name": "Python 3"
    },
    "language_info": {
      "name": "python"
    }
  },
  "cells": [
    {
      "cell_type": "markdown",
      "metadata": {
        "id": "view-in-github",
        "colab_type": "text"
      },
      "source": [
        "<a href=\"https://colab.research.google.com/github/Kashyap0126/DMDW_ASSIGNMENTS/blob/main/Assignment3.ipynb\" target=\"_parent\"><img src=\"https://colab.research.google.com/assets/colab-badge.svg\" alt=\"Open In Colab\"/></a>"
      ]
    },
    {
      "cell_type": "markdown",
      "metadata": {
        "id": "EeP5-SRggigg"
      },
      "source": [
        "Variance of x , Variance of y :"
      ]
    },
    {
      "cell_type": "code",
      "metadata": {
        "colab": {
          "base_uri": "https://localhost:8080/"
        },
        "id": "Ia6ixCN2gTYM",
        "outputId": "f9a8ce57-f675-4cbb-8b40-203c2b5acd23"
      },
      "source": [
        "x=[7.8,8.2,8.7,9.2,9.5]\n",
        "y=[3,3.2,3.8,4.1,4.4]\n",
        "\n",
        "print(\"the original list is :\" + str(x))\n",
        "print(\"the original list is :\" + str(y))\n",
        "\n",
        "mean = sum(x) / len(x)\n",
        "res = sum((i - mean) ** 2 for i in x) / len(x)\n",
        "\n",
        "mean1= sum(y) / len(y)\n",
        "res1 = sum((i - mean1)** 2 for i in y)/ len(y)\n",
        "\n",
        "print(\"the variance of the list x is :\" + str(res))\n",
        "print(\"the variance of the list y is :\" + str(res1))"
      ],
      "execution_count": 1,
      "outputs": [
        {
          "output_type": "stream",
          "name": "stdout",
          "text": [
            "the original list is :[7.8, 8.2, 8.7, 9.2, 9.5]\n",
            "the original list is :[3, 3.2, 3.8, 4.1, 4.4]\n",
            "the variance of the list x is :0.38960000000000006\n",
            "the variance of the list y is :0.27999999999999997\n"
          ]
        }
      ]
    },
    {
      "cell_type": "markdown",
      "metadata": {
        "id": "Kh5EeDqwgql4"
      },
      "source": [
        "Covariance between x and y"
      ]
    },
    {
      "cell_type": "code",
      "metadata": {
        "colab": {
          "base_uri": "https://localhost:8080/"
        },
        "id": "7gpy63rWgsBD",
        "outputId": "5c365861-f8f0-4c0f-e70b-019bed42d42a"
      },
      "source": [
        "import math\n",
        " \n",
        "\n",
        "def mean(arr, n):\n",
        "     \n",
        "    sum = 0\n",
        "    for i in range(0, n):\n",
        "        sum = sum + arr[i]\n",
        "     \n",
        "    return sum / n\n",
        " \n",
        "\n",
        "def covariance(x, y, n):\n",
        " \n",
        "    sum = 0\n",
        "    for i in range(0, n):\n",
        "        sum = (sum + (x[i] - mean(x, n)) *\n",
        "                      (y[i] - mean(y, n)))\n",
        "     \n",
        "    return sum / (n - 1)\n",
        " \n",
        "\n",
        "x = [7.8,8.2,8.7,9.2,9.5]\n",
        "n = len(x)\n",
        " \n",
        "y = [3,3.2,3.8,4.1,4.4]\n",
        "m = len(y)\n",
        " \n",
        "if (m == n):\n",
        "    print (covariance(x, y, m))"
      ],
      "execution_count": 2,
      "outputs": [
        {
          "output_type": "stream",
          "name": "stdout",
          "text": [
            "0.41000000000000003\n"
          ]
        }
      ]
    },
    {
      "cell_type": "markdown",
      "metadata": {
        "id": "a7ZjjbDGg0jq"
      },
      "source": [
        "Correletion Coefficient"
      ]
    },
    {
      "cell_type": "code",
      "metadata": {
        "colab": {
          "base_uri": "https://localhost:8080/"
        },
        "id": "wDXCOq7Jg1gt",
        "outputId": "ae9ffd22-ddb1-4fa6-fbac-1c77e18a9375"
      },
      "source": [
        "def correlationCoefficient(X, Y, n) :\n",
        "    sum_X = 0\n",
        "    sum_Y = 0\n",
        "    sum_XY = 0\n",
        "    squareSum_X = 0\n",
        "    squareSum_Y = 0\n",
        "      \n",
        "      \n",
        "    i = 0\n",
        "    while i < n :\n",
        "       \n",
        "        sum_X = sum_X + X[i]\n",
        "          \n",
        "        \n",
        "        sum_Y = sum_Y + Y[i]\n",
        "          \n",
        "        \n",
        "        sum_XY = sum_XY + X[i] * Y[i]\n",
        "          \n",
        "       \n",
        "        squareSum_X = squareSum_X + X[i] * X[i]\n",
        "        squareSum_Y = squareSum_Y + Y[i] * Y[i]\n",
        "          \n",
        "        i = i + 1\n",
        "       \n",
        "  \n",
        "    corr = (float)(n * sum_XY - sum_X * sum_Y)/ (float)(math.sqrt((n * squareSum_X - sum_X * sum_X)* (n * squareSum_Y - sum_Y * sum_Y)))\n",
        "    return corr\n",
        "      \n",
        "\n",
        "X = [7.8,8.2,8.7,9.2,9.5]\n",
        "Y = [3,3.2,3.8,4.1,4.4]\n",
        "       \n",
        "\n",
        "n = len(X)\n",
        "  \n",
        "\n",
        "print ('{0:.6f}'.format(correlationCoefficient(X, Y, n)))"
      ],
      "execution_count": 3,
      "outputs": [
        {
          "output_type": "stream",
          "name": "stdout",
          "text": [
            "0.993083\n"
          ]
        }
      ]
    },
    {
      "cell_type": "markdown",
      "metadata": {
        "id": "uj7Q9Miug-gm"
      },
      "source": [
        "WITH USING LIBRARIES (numpy, scipy )"
      ]
    },
    {
      "cell_type": "code",
      "metadata": {
        "colab": {
          "base_uri": "https://localhost:8080/"
        },
        "id": "FnLUNBnug_Pq",
        "outputId": "db4a8e0c-6664-46f6-cee2-3e71ecc15f23"
      },
      "source": [
        "import numpy as np\n",
        "x=[7.8,8.2,8.7,9.2,9.5]\n",
        "y=[3,3.2,3.8,4.1,4.4]\n",
        "\n",
        "print(\"arr :\", x)\n",
        "print(\"var of arr :\", np.var(x))\n",
        "\n",
        "print(\"arr :\" , y)\n",
        "print(\"var of arr\", np.var(y))"
      ],
      "execution_count": 4,
      "outputs": [
        {
          "output_type": "stream",
          "name": "stdout",
          "text": [
            "arr : [7.8, 8.2, 8.7, 9.2, 9.5]\n",
            "var of arr : 0.38960000000000006\n",
            "arr : [3, 3.2, 3.8, 4.1, 4.4]\n",
            "var of arr 0.27999999999999997\n"
          ]
        }
      ]
    },
    {
      "cell_type": "markdown",
      "metadata": {
        "id": "DEvxgZeshD3F"
      },
      "source": [
        "standard deviation"
      ]
    },
    {
      "cell_type": "code",
      "metadata": {
        "id": "UChezJpnhFQ5"
      },
      "source": [
        "import numpy as np"
      ],
      "execution_count": 5,
      "outputs": []
    },
    {
      "cell_type": "code",
      "metadata": {
        "colab": {
          "base_uri": "https://localhost:8080/"
        },
        "id": "XwqTihaNhINF",
        "outputId": "6fc4eb4a-d2fa-43f6-d119-4af48606b62c"
      },
      "source": [
        "lst = [4,5,8,9,10]\n",
        "SD = np.std(lst)\n",
        "print(SD)"
      ],
      "execution_count": 6,
      "outputs": [
        {
          "output_type": "stream",
          "name": "stdout",
          "text": [
            "2.3151673805580453\n"
          ]
        }
      ]
    },
    {
      "cell_type": "markdown",
      "metadata": {
        "id": "fmEeiQHThMfm"
      },
      "source": [
        "COVARIANCE"
      ]
    },
    {
      "cell_type": "code",
      "metadata": {
        "colab": {
          "base_uri": "https://localhost:8080/"
        },
        "id": "wnFL4LvkhNjT",
        "outputId": "84e415ed-3eb5-4d79-8460-eb0a8eb0e748"
      },
      "source": [
        "import numpy as np\n",
        "x = np.array([[0,3,4], [1,2,4], [3,4,5]])\n",
        "print(np.cov(x))"
      ],
      "execution_count": 7,
      "outputs": [
        {
          "output_type": "stream",
          "name": "stdout",
          "text": [
            "[[4.33333333 2.83333333 2.        ]\n",
            " [2.83333333 2.33333333 1.5       ]\n",
            " [2.         1.5        1.        ]]\n"
          ]
        }
      ]
    },
    {
      "cell_type": "markdown",
      "metadata": {
        "id": "wLwgHNsdhTxV"
      },
      "source": [
        "correlation coefficient"
      ]
    },
    {
      "cell_type": "code",
      "metadata": {
        "colab": {
          "base_uri": "https://localhost:8080/"
        },
        "id": "GxrcE_qchUmb",
        "outputId": "79615345-2679-4c2f-e962-25c7f3c68e1d"
      },
      "source": [
        "import numpy as np\n",
        "x = np.random.random(20)\n",
        "y = np.random.random(20)\n",
        "\n",
        "x1 = np.mean(x)\n",
        "y1 = np.mean(y)\n",
        "t = np.sum((x-x1)*(y-y1))\n",
        "b = np.sqrt(np.sum(np.power(x-x1,2)) * np.power(y-y1,2))\n",
        "print(t/b)"
      ],
      "execution_count": 8,
      "outputs": [
        {
          "output_type": "stream",
          "name": "stdout",
          "text": [
            "[-0.92769607 -1.02945184 -1.26401665 -5.29341045 -0.85910318 -1.26049005\n",
            " -3.93220932 -1.03804273 -1.15232902 -2.79222468 -6.42239114 -1.64544829\n",
            " -3.25183323 -0.93529378 -1.24908027 -1.34284584 -0.90161001 -2.01067575\n",
            " -6.26340481 -1.97215594]\n"
          ]
        }
      ]
    }
  ]
}