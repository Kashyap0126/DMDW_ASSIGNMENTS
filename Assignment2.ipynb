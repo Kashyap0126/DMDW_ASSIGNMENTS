{
  "nbformat": 4,
  "nbformat_minor": 0,
  "metadata": {
    "colab": {
      "name": "Assignment2.ipynb",
      "provenance": [],
      "collapsed_sections": [],
      "authorship_tag": "ABX9TyOGMr5PwoA2ZfqSxLnHn6lR",
      "include_colab_link": true
    },
    "kernelspec": {
      "name": "python3",
      "display_name": "Python 3"
    },
    "language_info": {
      "name": "python"
    }
  },
  "cells": [
    {
      "cell_type": "markdown",
      "metadata": {
        "id": "view-in-github",
        "colab_type": "text"
      },
      "source": [
        "<a href=\"https://colab.research.google.com/github/Kashyap0126/DMDW_ASSIGNMENTS/blob/main/Assignment2.ipynb\" target=\"_parent\"><img src=\"https://colab.research.google.com/assets/colab-badge.svg\" alt=\"Open In Colab\"/></a>"
      ]
    },
    {
      "cell_type": "markdown",
      "metadata": {
        "id": "2KEVkhYoea4j"
      },
      "source": [
        "\n",
        "10 MOST USED COMMAND IN NUMPY"
      ]
    },
    {
      "cell_type": "markdown",
      "metadata": {
        "id": "Q6srcvABei3O"
      },
      "source": [
        "\n",
        "\n",
        "Array"
      ]
    },
    {
      "cell_type": "code",
      "metadata": {
        "id": "GWqgLPcSeNKY"
      },
      "source": [
        "import numpy as np"
      ],
      "execution_count": 1,
      "outputs": []
    },
    {
      "cell_type": "code",
      "metadata": {
        "colab": {
          "base_uri": "https://localhost:8080/"
        },
        "id": "-9sQIRYSeSHU",
        "outputId": "d9ed88f3-df53-46a3-91af-75a12f71125b"
      },
      "source": [
        "arr = np.array([1,2,3,4])\n",
        "print(arr)\n",
        "print(type(arr))"
      ],
      "execution_count": 2,
      "outputs": [
        {
          "output_type": "stream",
          "name": "stdout",
          "text": [
            "[1 2 3 4]\n",
            "<class 'numpy.ndarray'>\n"
          ]
        }
      ]
    },
    {
      "cell_type": "markdown",
      "metadata": {
        "id": "zVuxb6CyeuYq"
      },
      "source": [
        "Empty()"
      ]
    },
    {
      "cell_type": "code",
      "metadata": {
        "colab": {
          "base_uri": "https://localhost:8080/"
        },
        "id": "fVI1JqpOewuf",
        "outputId": "f5432150-2cb9-46c0-b806-af37542d9022"
      },
      "source": [
        "e = np.empty([2,2])\n",
        "print(e)"
      ],
      "execution_count": 3,
      "outputs": [
        {
          "output_type": "stream",
          "name": "stdout",
          "text": [
            "[[1. 1.]\n",
            " [1. 0.]]\n"
          ]
        }
      ]
    },
    {
      "cell_type": "markdown",
      "metadata": {
        "id": "Y2CbkpOSe654"
      },
      "source": [
        "Zeros()"
      ]
    },
    {
      "cell_type": "code",
      "metadata": {
        "colab": {
          "base_uri": "https://localhost:8080/"
        },
        "id": "tM63svtVe8NP",
        "outputId": "584f6708-3683-4866-e0da-1208ff01bd33"
      },
      "source": [
        "b = np.zeros(2, dtype = int)\n",
        "print(b)"
      ],
      "execution_count": 4,
      "outputs": [
        {
          "output_type": "stream",
          "name": "stdout",
          "text": [
            "[0 0]\n"
          ]
        }
      ]
    },
    {
      "cell_type": "markdown",
      "metadata": {
        "id": "Gm1GixvTe_ZM"
      },
      "source": [
        "ones()"
      ]
    },
    {
      "cell_type": "code",
      "metadata": {
        "colab": {
          "base_uri": "https://localhost:8080/"
        },
        "id": "MHAkxu4jfBg6",
        "outputId": "39a4cb48-200a-454d-cd3c-8cb47e9949d4"
      },
      "source": [
        "b = np.ones([2,2], dtype = int)\n",
        "print(b)"
      ],
      "execution_count": 5,
      "outputs": [
        {
          "output_type": "stream",
          "name": "stdout",
          "text": [
            "[[1 1]\n",
            " [1 1]]\n"
          ]
        }
      ]
    },
    {
      "cell_type": "markdown",
      "metadata": {
        "id": "U8h7qZPyfD92"
      },
      "source": [
        "vstack()"
      ]
    },
    {
      "cell_type": "code",
      "metadata": {
        "colab": {
          "base_uri": "https://localhost:8080/"
        },
        "id": "Y1YzY4VDfGZW",
        "outputId": "1b87e4fc-0d73-4523-d17e-37c0ffe7fa93"
      },
      "source": [
        "x = np.array([ 3,5,7] )\n",
        "print (\"1st Input array : \\n\", x) \n",
        "  \n",
        "y = np.array([ 5,7,9] )\n",
        "print (\"2nd Input array : \\n\", y) \n",
        "\n",
        "z = np.vstack((x,y))\n",
        "print (\"Output vertically stacked array:\\n \", z)"
      ],
      "execution_count": 6,
      "outputs": [
        {
          "output_type": "stream",
          "name": "stdout",
          "text": [
            "1st Input array : \n",
            " [3 5 7]\n",
            "2nd Input array : \n",
            " [5 7 9]\n",
            "Output vertically stacked array:\n",
            "  [[3 5 7]\n",
            " [5 7 9]]\n"
          ]
        }
      ]
    },
    {
      "cell_type": "markdown",
      "metadata": {
        "id": "VcYH3niDfKTs"
      },
      "source": [
        "hstack()"
      ]
    },
    {
      "cell_type": "code",
      "metadata": {
        "colab": {
          "base_uri": "https://localhost:8080/"
        },
        "id": "Y4MpxJ9-fLpJ",
        "outputId": "6658c4e0-e065-417a-85e8-8f0637ecc1a0"
      },
      "source": [
        "x = np.array([ 3,5,7] )\n",
        "print (\"1st Input array : \\n\", x) \n",
        "  \n",
        "y = np.array([ 5,7,9] )\n",
        "print (\"2nd Input array : \\n\", y) \n",
        "\n",
        "z = np.hstack((x,y))\n",
        "print (\"Output vertically stacked array:\\n \", z)"
      ],
      "execution_count": 7,
      "outputs": [
        {
          "output_type": "stream",
          "name": "stdout",
          "text": [
            "1st Input array : \n",
            " [3 5 7]\n",
            "2nd Input array : \n",
            " [5 7 9]\n",
            "Output vertically stacked array:\n",
            "  [3 5 7 5 7 9]\n"
          ]
        }
      ]
    },
    {
      "cell_type": "markdown",
      "metadata": {
        "id": "9aihUA_3fPoB"
      },
      "source": [
        "indexing()"
      ]
    },
    {
      "cell_type": "code",
      "metadata": {
        "colab": {
          "base_uri": "https://localhost:8080/"
        },
        "id": "7Txw2rGsfR0z",
        "outputId": "eb06feaa-3faa-4aef-f369-9769fc8436a1"
      },
      "source": [
        "a = np.array([1,2,3,6,9])\n",
        "print(a[1])"
      ],
      "execution_count": 8,
      "outputs": [
        {
          "output_type": "stream",
          "name": "stdout",
          "text": [
            "2\n"
          ]
        }
      ]
    },
    {
      "cell_type": "markdown",
      "metadata": {
        "id": "fG_QwT9JfV6S"
      },
      "source": [
        "slicing"
      ]
    },
    {
      "cell_type": "code",
      "metadata": {
        "colab": {
          "base_uri": "https://localhost:8080/"
        },
        "id": "zlqBw0GLfWyk",
        "outputId": "73b663e2-6b06-43bd-d142-5517757e2c8a"
      },
      "source": [
        "import numpy as np\n",
        "\n",
        "arr = np.array([1, 2, 3, 4, 5, 6, 7])\n",
        "\n",
        "print(arr[1:5])"
      ],
      "execution_count": 9,
      "outputs": [
        {
          "output_type": "stream",
          "name": "stdout",
          "text": [
            "[2 3 4 5]\n"
          ]
        }
      ]
    },
    {
      "cell_type": "markdown",
      "metadata": {
        "id": "KiKjCiE6fY9N"
      },
      "source": [
        "shape()"
      ]
    },
    {
      "cell_type": "code",
      "metadata": {
        "colab": {
          "base_uri": "https://localhost:8080/"
        },
        "id": "gRmsePPQfbVk",
        "outputId": "21b43ba5-1b62-4a56-e2ba-5e9788ff0443"
      },
      "source": [
        "import numpy as np\n",
        "a = np.array([[1,2,3] , [5,6,7]])\n",
        "print(a.shape)"
      ],
      "execution_count": 10,
      "outputs": [
        {
          "output_type": "stream",
          "name": "stdout",
          "text": [
            "(2, 3)\n"
          ]
        }
      ]
    },
    {
      "cell_type": "markdown",
      "metadata": {
        "id": "EeL9LPb_fdZ1"
      },
      "source": [
        "reshape()"
      ]
    },
    {
      "cell_type": "code",
      "metadata": {
        "colab": {
          "base_uri": "https://localhost:8080/"
        },
        "id": "hxNZeRFFfgCh",
        "outputId": "50d7ef94-3e95-435f-da27-57ee89cde8ac"
      },
      "source": [
        "import numpy as np\n",
        "\n",
        "x = np.array([1, 2, 3, 4, 5, 6, 7, 8])\n",
        "\n",
        "newy = x.reshape(2, 4)\n",
        "\n",
        "print(newy)"
      ],
      "execution_count": 11,
      "outputs": [
        {
          "output_type": "stream",
          "name": "stdout",
          "text": [
            "[[1 2 3 4]\n",
            " [5 6 7 8]]\n"
          ]
        }
      ]
    },
    {
      "cell_type": "markdown",
      "metadata": {
        "id": "ykEGBwu7fkD6"
      },
      "source": [
        "broadcast()"
      ]
    },
    {
      "cell_type": "code",
      "metadata": {
        "colab": {
          "base_uri": "https://localhost:8080/"
        },
        "id": "o-NnFgfJfmSp",
        "outputId": "855b62ff-3fbe-4eef-e126-a615ab75374d"
      },
      "source": [
        "a = np.array([1,2,3])\n",
        "b = np.array([4,5,6])\n",
        "c = a*b\n",
        "print (c)"
      ],
      "execution_count": 12,
      "outputs": [
        {
          "output_type": "stream",
          "name": "stdout",
          "text": [
            "[ 4 10 18]\n"
          ]
        }
      ]
    },
    {
      "cell_type": "markdown",
      "metadata": {
        "id": "CbOXAkJUfpRM"
      },
      "source": [
        "Execute 5 most used command in pandas"
      ]
    },
    {
      "cell_type": "markdown",
      "metadata": {
        "id": "oNWf_EHsfrs_"
      },
      "source": [
        "dataframe()"
      ]
    },
    {
      "cell_type": "code",
      "metadata": {
        "id": "fgbbz3QnftVx"
      },
      "source": [
        "import pandas as pd"
      ],
      "execution_count": 13,
      "outputs": []
    },
    {
      "cell_type": "code",
      "metadata": {
        "colab": {
          "base_uri": "https://localhost:8080/"
        },
        "id": "hHw8o-VQfvgB",
        "outputId": "3f4275f3-3904-42f5-8fc5-3d4893d7eb23"
      },
      "source": [
        "lst = [1,2,3]\n",
        "\n",
        "df = pd.DataFrame(lst)\n",
        "print(df)"
      ],
      "execution_count": 14,
      "outputs": [
        {
          "output_type": "stream",
          "name": "stdout",
          "text": [
            "   0\n",
            "0  1\n",
            "1  2\n",
            "2  3\n"
          ]
        }
      ]
    },
    {
      "cell_type": "markdown",
      "metadata": {
        "id": "u2ZkyTFKfzvo"
      },
      "source": [
        "head()"
      ]
    },
    {
      "cell_type": "code",
      "metadata": {
        "colab": {
          "base_uri": "https://localhost:8080/",
          "height": 142
        },
        "id": "SPvJKOE0f1QG",
        "outputId": "03b4be58-87f4-4b87-ed01-9493fcb3a3ea"
      },
      "source": [
        "df = pd.DataFrame({'animal':['snake', 'bat', 'tiger', 'lion',\n",
        "                   'fox', 'eagle', 'shark', 'dog', 'deer']})\n",
        "df\n",
        "df.head(3)"
      ],
      "execution_count": 15,
      "outputs": [
        {
          "output_type": "execute_result",
          "data": {
            "text/html": [
              "<div>\n",
              "<style scoped>\n",
              "    .dataframe tbody tr th:only-of-type {\n",
              "        vertical-align: middle;\n",
              "    }\n",
              "\n",
              "    .dataframe tbody tr th {\n",
              "        vertical-align: top;\n",
              "    }\n",
              "\n",
              "    .dataframe thead th {\n",
              "        text-align: right;\n",
              "    }\n",
              "</style>\n",
              "<table border=\"1\" class=\"dataframe\">\n",
              "  <thead>\n",
              "    <tr style=\"text-align: right;\">\n",
              "      <th></th>\n",
              "      <th>animal</th>\n",
              "    </tr>\n",
              "  </thead>\n",
              "  <tbody>\n",
              "    <tr>\n",
              "      <th>0</th>\n",
              "      <td>snake</td>\n",
              "    </tr>\n",
              "    <tr>\n",
              "      <th>1</th>\n",
              "      <td>bat</td>\n",
              "    </tr>\n",
              "    <tr>\n",
              "      <th>2</th>\n",
              "      <td>tiger</td>\n",
              "    </tr>\n",
              "  </tbody>\n",
              "</table>\n",
              "</div>"
            ],
            "text/plain": [
              "  animal\n",
              "0  snake\n",
              "1    bat\n",
              "2  tiger"
            ]
          },
          "metadata": {},
          "execution_count": 15
        }
      ]
    },
    {
      "cell_type": "markdown",
      "metadata": {
        "id": "YPNV4URIf5Ou"
      },
      "source": [
        "loc()"
      ]
    },
    {
      "cell_type": "code",
      "metadata": {
        "colab": {
          "base_uri": "https://localhost:8080/"
        },
        "id": "Pb_9BveFf6VJ",
        "outputId": "87955c3a-0f5f-452d-9aaa-a508e22bb992"
      },
      "source": [
        "import pandas as pd\n",
        "df = pd.DataFrame({'Weight':[45, 88, 56, 15, 71],\n",
        "                   'Name':['Sam', 'Andrea', 'Alex', 'Robin', 'Kia'],\n",
        "                   'Age':[14, 25, 55, 8, 21]})\n",
        "index_ = ['Row_1', 'Row_2', 'Row_3', 'Row_4', 'Row_5']\n",
        "  \n",
        "df.index = index_\n",
        "  \n",
        "print(df)\n",
        "result = df.loc['Row_2', 'Name']\n",
        "print(result)"
      ],
      "execution_count": 16,
      "outputs": [
        {
          "output_type": "stream",
          "name": "stdout",
          "text": [
            "       Weight    Name  Age\n",
            "Row_1      45     Sam   14\n",
            "Row_2      88  Andrea   25\n",
            "Row_3      56    Alex   55\n",
            "Row_4      15   Robin    8\n",
            "Row_5      71     Kia   21\n",
            "Andrea\n"
          ]
        }
      ]
    }
  ]
}